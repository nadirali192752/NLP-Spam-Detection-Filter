{
 "cells": [
  {
   "cell_type": "markdown",
   "metadata": {},
   "source": [
    "# Spam Detection Filter System\n",
    "<font size=4>Name: Ahmad Amjad Mughal </font><br>\n",
    "<font size=4>Reg No: 121672 </font><br>\n",
    "<font size=4>Class: BSCS-6C </font><br>\n",
    "<font size=4>Natural Lanuguage Processing Semester Project</font>"
   ]
  },
  {
   "cell_type": "code",
   "execution_count": 73,
   "metadata": {},
   "outputs": [],
   "source": [
    "#Included Packages and Libraries\n",
    "import nltk\n",
    "import string\n",
    "import numpy as np\n",
    "import matplotlib.pyplot as plt\n",
    "import seaborn as sns\n",
    "%matplotlib inline\n",
    "from nltk.corpus import stopwords\n",
    "from sklearn.model_selection import train_test_split\n",
    "from sklearn.feature_extraction.text import CountVectorizer\n",
    "import pandas as pd"
   ]
  },
  {
   "cell_type": "code",
   "execution_count": 8,
   "metadata": {},
   "outputs": [],
   "source": [
    "#It returns the string without any trailing character like space\n",
    "messages=[line.rstrip() for line in open('Spam')]"
   ]
  },
  {
   "cell_type": "code",
   "execution_count": 9,
   "metadata": {},
   "outputs": [
    {
     "name": "stdout",
     "output_type": "stream",
     "text": [
      "5574\n"
     ]
    }
   ],
   "source": [
    "#It prints the length of list means total no. of messages\n",
    "print(len(messages))"
   ]
  },
  {
   "cell_type": "code",
   "execution_count": 10,
   "metadata": {},
   "outputs": [
    {
     "name": "stdout",
     "output_type": "stream",
     "text": [
      "(0, 'ham\\tGo until jurong point, crazy.. Available only in bugis n great world la e buffet... Cine there got amore wat...')\n",
      "/n\n",
      "(1, 'ham\\tOk lar... Joking wif u oni...')\n",
      "/n\n",
      "(2, \"spam\\tFree entry in 2 a wkly comp to win FA Cup final tkts 21st May 2005. Text FA to 87121 to receive entry question(std txt rate)T&C's apply 08452810075over18's\")\n",
      "/n\n",
      "(3, 'ham\\tU dun say so early hor... U c already then say...')\n",
      "/n\n",
      "(4, \"ham\\tNah I don't think he goes to usf, he lives around here though\")\n",
      "/n\n"
     ]
    }
   ],
   "source": [
    "#Prints the first 10 messages\n",
    "for mess_no,message in enumerate(messages[:5]):\n",
    "    print(mess_no,message)\n",
    "    print('/n')"
   ]
  },
  {
   "cell_type": "markdown",
   "metadata": {},
   "source": [
    "These are tab separated files in which first column is ham/spam"
   ]
  },
  {
   "cell_type": "code",
   "execution_count": 11,
   "metadata": {},
   "outputs": [],
   "source": [
    "#dataframe messages which is a two dimensional datastructure with column headers label and message\n",
    "messages=pd.read_csv('Spam',sep='\\t',names=['label','message'])"
   ]
  },
  {
   "cell_type": "code",
   "execution_count": 12,
   "metadata": {},
   "outputs": [
    {
     "data": {
      "text/html": [
       "<div>\n",
       "<style scoped>\n",
       "    .dataframe tbody tr th:only-of-type {\n",
       "        vertical-align: middle;\n",
       "    }\n",
       "\n",
       "    .dataframe tbody tr th {\n",
       "        vertical-align: top;\n",
       "    }\n",
       "\n",
       "    .dataframe thead th {\n",
       "        text-align: right;\n",
       "    }\n",
       "</style>\n",
       "<table border=\"1\" class=\"dataframe\">\n",
       "  <thead>\n",
       "    <tr style=\"text-align: right;\">\n",
       "      <th></th>\n",
       "      <th>label</th>\n",
       "      <th>message</th>\n",
       "    </tr>\n",
       "  </thead>\n",
       "  <tbody>\n",
       "    <tr>\n",
       "      <th>0</th>\n",
       "      <td>ham</td>\n",
       "      <td>Go until jurong point, crazy.. Available only ...</td>\n",
       "    </tr>\n",
       "    <tr>\n",
       "      <th>1</th>\n",
       "      <td>ham</td>\n",
       "      <td>Ok lar... Joking wif u oni...</td>\n",
       "    </tr>\n",
       "    <tr>\n",
       "      <th>2</th>\n",
       "      <td>spam</td>\n",
       "      <td>Free entry in 2 a wkly comp to win FA Cup fina...</td>\n",
       "    </tr>\n",
       "    <tr>\n",
       "      <th>3</th>\n",
       "      <td>ham</td>\n",
       "      <td>U dun say so early hor... U c already then say...</td>\n",
       "    </tr>\n",
       "    <tr>\n",
       "      <th>4</th>\n",
       "      <td>ham</td>\n",
       "      <td>Nah I don't think he goes to usf, he lives aro...</td>\n",
       "    </tr>\n",
       "  </tbody>\n",
       "</table>\n",
       "</div>"
      ],
      "text/plain": [
       "  label                                            message\n",
       "0   ham  Go until jurong point, crazy.. Available only ...\n",
       "1   ham                      Ok lar... Joking wif u oni...\n",
       "2  spam  Free entry in 2 a wkly comp to win FA Cup fina...\n",
       "3   ham  U dun say so early hor... U c already then say...\n",
       "4   ham  Nah I don't think he goes to usf, he lives aro..."
      ]
     },
     "execution_count": 12,
     "metadata": {},
     "output_type": "execute_result"
    }
   ],
   "source": [
    "messages.head()"
   ]
  },
  {
   "cell_type": "code",
   "execution_count": 13,
   "metadata": {},
   "outputs": [
    {
     "data": {
      "text/html": [
       "<div>\n",
       "<style scoped>\n",
       "    .dataframe tbody tr th:only-of-type {\n",
       "        vertical-align: middle;\n",
       "    }\n",
       "\n",
       "    .dataframe tbody tr th {\n",
       "        vertical-align: top;\n",
       "    }\n",
       "\n",
       "    .dataframe thead th {\n",
       "        text-align: right;\n",
       "    }\n",
       "</style>\n",
       "<table border=\"1\" class=\"dataframe\">\n",
       "  <thead>\n",
       "    <tr style=\"text-align: right;\">\n",
       "      <th></th>\n",
       "      <th>label</th>\n",
       "      <th>message</th>\n",
       "    </tr>\n",
       "  </thead>\n",
       "  <tbody>\n",
       "    <tr>\n",
       "      <th>count</th>\n",
       "      <td>5572</td>\n",
       "      <td>5572</td>\n",
       "    </tr>\n",
       "    <tr>\n",
       "      <th>unique</th>\n",
       "      <td>2</td>\n",
       "      <td>5169</td>\n",
       "    </tr>\n",
       "    <tr>\n",
       "      <th>top</th>\n",
       "      <td>ham</td>\n",
       "      <td>Sorry, I'll call later</td>\n",
       "    </tr>\n",
       "    <tr>\n",
       "      <th>freq</th>\n",
       "      <td>4825</td>\n",
       "      <td>30</td>\n",
       "    </tr>\n",
       "  </tbody>\n",
       "</table>\n",
       "</div>"
      ],
      "text/plain": [
       "       label                 message\n",
       "count   5572                    5572\n",
       "unique     2                    5169\n",
       "top      ham  Sorry, I'll call later\n",
       "freq    4825                      30"
      ]
     },
     "execution_count": 13,
     "metadata": {},
     "output_type": "execute_result"
    }
   ],
   "source": [
    "#Statistical information of messages dataframe\n",
    "messages.describe()"
   ]
  },
  {
   "cell_type": "code",
   "execution_count": 14,
   "metadata": {},
   "outputs": [
    {
     "data": {
      "text/html": [
       "<div>\n",
       "<style scoped>\n",
       "    .dataframe tbody tr th:only-of-type {\n",
       "        vertical-align: middle;\n",
       "    }\n",
       "\n",
       "    .dataframe tbody tr th {\n",
       "        vertical-align: top;\n",
       "    }\n",
       "\n",
       "    .dataframe thead tr th {\n",
       "        text-align: left;\n",
       "    }\n",
       "\n",
       "    .dataframe thead tr:last-of-type th {\n",
       "        text-align: right;\n",
       "    }\n",
       "</style>\n",
       "<table border=\"1\" class=\"dataframe\">\n",
       "  <thead>\n",
       "    <tr>\n",
       "      <th></th>\n",
       "      <th colspan=\"4\" halign=\"left\">message</th>\n",
       "    </tr>\n",
       "    <tr>\n",
       "      <th></th>\n",
       "      <th>count</th>\n",
       "      <th>unique</th>\n",
       "      <th>top</th>\n",
       "      <th>freq</th>\n",
       "    </tr>\n",
       "    <tr>\n",
       "      <th>label</th>\n",
       "      <th></th>\n",
       "      <th></th>\n",
       "      <th></th>\n",
       "      <th></th>\n",
       "    </tr>\n",
       "  </thead>\n",
       "  <tbody>\n",
       "    <tr>\n",
       "      <th>ham</th>\n",
       "      <td>4825</td>\n",
       "      <td>4516</td>\n",
       "      <td>Sorry, I'll call later</td>\n",
       "      <td>30</td>\n",
       "    </tr>\n",
       "    <tr>\n",
       "      <th>spam</th>\n",
       "      <td>747</td>\n",
       "      <td>653</td>\n",
       "      <td>Please call our customer service representativ...</td>\n",
       "      <td>4</td>\n",
       "    </tr>\n",
       "  </tbody>\n",
       "</table>\n",
       "</div>"
      ],
      "text/plain": [
       "      message                                                               \n",
       "        count unique                                                top freq\n",
       "label                                                                       \n",
       "ham      4825   4516                             Sorry, I'll call later   30\n",
       "spam      747    653  Please call our customer service representativ...    4"
      ]
     },
     "execution_count": 14,
     "metadata": {},
     "output_type": "execute_result"
    }
   ],
   "source": [
    "#Statistcal information of messages separated by label\n",
    "messages.groupby('label').describe()"
   ]
  },
  {
   "cell_type": "markdown",
   "metadata": {},
   "source": [
    "Feature Engineering"
   ]
  },
  {
   "cell_type": "code",
   "execution_count": 15,
   "metadata": {},
   "outputs": [
    {
     "data": {
      "text/plain": [
       "<matplotlib.axes._subplots.AxesSubplot at 0xda3a9b0>"
      ]
     },
     "execution_count": 15,
     "metadata": {},
     "output_type": "execute_result"
    },
    {
     "data": {
      "image/png": "[encoded data removed]",
      "text/plain": [
       "<Figure size 432x288 with 1 Axes>"
      ]
     },
     "metadata": {
      "needs_background": "light"
     },
     "output_type": "display_data"
    }
   ],
   "source": [
    "#A separate Column that shows the length of that specific message in a messages dataframe\n",
    "messages['length']=messages['message'].apply(len)\n",
    "#Histogram that shows the frequency of charachters in messages\n",
    "messages['length'].plot.hist(bins=50)"
   ]
  },
  {
   "cell_type": "code",
   "execution_count": 16,
   "metadata": {},
   "outputs": [
    {
     "data": {
      "text/plain": [
       "count    5572.000000\n",
       "mean       80.616296\n",
       "std        60.015593\n",
       "min         2.000000\n",
       "25%        36.000000\n",
       "50%        62.000000\n",
       "75%       122.000000\n",
       "max       910.000000\n",
       "Name: length, dtype: float64"
      ]
     },
     "execution_count": 16,
     "metadata": {},
     "output_type": "execute_result"
    }
   ],
   "source": [
    "messages['length'].describe()"
   ]
  },
  {
   "cell_type": "markdown",
   "metadata": {},
   "source": [
    "Some of the messages are really large like 910 words. Lets check out what that message represents"
   ]
  },
  {
   "cell_type": "code",
   "execution_count": 17,
   "metadata": {},
   "outputs": [
    {
     "data": {
      "text/plain": [
       "\"For me the love should start with attraction.i should feel that I need her every time around me.she should be the first thing which comes in my thoughts.I would start the day and end it with her.she should be there every time I dream.love will be then when my every breath has her name.my life should happen around her.my life will be named to her.I would cry for her.will give all my happiness and take all her sorrows.I will be ready to fight with anyone for her.I will be in love when I will be doing the craziest things for her.love will be when I don't have to proove anyone that my girl is the most beautiful lady on the whole planet.I will always be singing praises for her.love will be when I start up making chicken curry and end up makiing sambar.life will be the most beautiful then.will get every morning and thank god for the day because she is with me.I would like to say a lot..will tell later..\""
      ]
     },
     "execution_count": 17,
     "metadata": {},
     "output_type": "execute_result"
    }
   ],
   "source": [
    "#print the longest message of length max\n",
    "messages[messages['length']==910]['message'].iloc[0]"
   ]
  },
  {
   "cell_type": "code",
   "execution_count": 18,
   "metadata": {},
   "outputs": [
    {
     "data": {
      "text/plain": [
       "array([<matplotlib.axes._subplots.AxesSubplot object at 0x000000000EF869B0>,\n",
       "       <matplotlib.axes._subplots.AxesSubplot object at 0x000000000EEF05C0>],\n",
       "      dtype=object)"
      ]
     },
     "execution_count": 18,
     "metadata": {},
     "output_type": "execute_result"
    },
    {
     "data": {
      "image/png": "[encoded data removed]",
      "text/plain": [
       "<Figure size 864x288 with 2 Axes>"
      ]
     },
     "metadata": {
      "needs_background": "light"
     },
     "output_type": "display_data"
    }
   ],
   "source": [
    "messages.hist(column='length',by='label',bins=60,figsize=(12,4))"
   ]
  },
  {
   "cell_type": "markdown",
   "metadata": {},
   "source": [
    "SPAM messages generally have more type of characters"
   ]
  },
  {
   "cell_type": "markdown",
   "metadata": {},
   "source": [
    "Now we will do feature engineering and use BAG OF WORDS Technique to do analysis"
   ]
  },
  {
   "cell_type": "markdown",
   "metadata": {},
   "source": [
    "Sample example for removing the punctuation in a string"
   ]
  },
  {
   "cell_type": "code",
   "execution_count": 19,
   "metadata": {},
   "outputs": [
    {
     "data": {
      "text/plain": [
       "'!\"#$%&\\'()*+,-./:;<=>?@[\\\\]^_`{|}~'"
      ]
     },
     "execution_count": 19,
     "metadata": {},
     "output_type": "execute_result"
    }
   ],
   "source": [
    "mess='Hey! This is my NLP Semester Project.'\n",
    "string.punctuation"
   ]
  },
  {
   "cell_type": "code",
   "execution_count": 20,
   "metadata": {},
   "outputs": [
    {
     "name": "stdout",
     "output_type": "stream",
     "text": [
      "['H', 'e', 'y', ' ', 'T', 'h', 'i', 's', ' ', 'i', 's', ' ', 'm', 'y', ' ', 'N', 'L', 'P', ' ', 'S', 'e', 'm', 'e', 's', 't', 'e', 'r', ' ', 'P', 'r', 'o', 'j', 'e', 'c', 't']\n"
     ]
    }
   ],
   "source": [
    "nopunc=[c for c in mess if c not in string.punctuation]\n",
    "print(nopunc)"
   ]
  },
  {
   "cell_type": "code",
   "execution_count": 21,
   "metadata": {},
   "outputs": [
    {
     "name": "stdout",
     "output_type": "stream",
     "text": [
      "Hey This is my NLP Semester Project\n"
     ]
    }
   ],
   "source": [
    "nopunc=''.join(nopunc)\n",
    "print(nopunc)"
   ]
  },
  {
   "cell_type": "markdown",
   "metadata": {},
   "source": [
    "See we removed the punctuations. Now we want to remove words like a, then, that ,basically grammer"
   ]
  },
  {
   "cell_type": "code",
   "execution_count": 22,
   "metadata": {},
   "outputs": [
    {
     "name": "stdout",
     "output_type": "stream",
     "text": [
      "['Hey', 'NLP', 'Semester', 'Project']\n"
     ]
    }
   ],
   "source": [
    "#It returns a cleaned string message in the form of list after the removal of grammer words.\n",
    "clean_message=[word for word in nopunc.split() if word.lower() not in stopwords.words('english')]\n",
    "print(clean_message)"
   ]
  },
  {
   "cell_type": "markdown",
   "metadata": {},
   "source": [
    "It can be observed that now we have list of words with no punctuation and no grammer words (stop words). Next we write a function for this so that we can be used for the Data Frame"
   ]
  },
  {
   "cell_type": "code",
   "execution_count": 23,
   "metadata": {},
   "outputs": [],
   "source": [
    "#A filter that does bag of words analysis and Normalization\n",
    "def text_process(mess):\n",
    "    nopunc=[char for char in mess if char not in string.punctuation]\n",
    "    \n",
    "    nopunc=''.join(nopunc)\n",
    "    \n",
    "    return [word for word in nopunc.split() if word.lower() not in stopwords.words('english') ]"
   ]
  },
  {
   "cell_type": "code",
   "execution_count": 24,
   "metadata": {},
   "outputs": [
    {
     "data": {
      "text/plain": [
       "0    [Go, jurong, point, crazy, Available, bugis, n...\n",
       "1                       [Ok, lar, Joking, wif, u, oni]\n",
       "Name: message, dtype: object"
      ]
     },
     "execution_count": 24,
     "metadata": {},
     "output_type": "execute_result"
    }
   ],
   "source": [
    "#We apply the filter to the top 5 messages\n",
    "messages['message'].head(2).apply(text_process)"
   ]
  },
  {
   "cell_type": "markdown",
   "metadata": {},
   "source": [
    "This is a very simple normalization. There are other libraries which can be used. For example, stemming "
   ]
  },
  {
   "cell_type": "markdown",
   "metadata": {},
   "source": [
    "CountVectorizer count how many times does a word occur in each message(tf) Weight the counts, so that frequent tokens get lower weight (inverse document frequency)."
   ]
  },
  {
   "cell_type": "code",
   "execution_count": 26,
   "metadata": {},
   "outputs": [
    {
     "name": "stdout",
     "output_type": "stream",
     "text": [
      "(ROW, COLUMN)   (FREQUENCY OF WORD)\n",
      "  (0, 8324)\t1\n",
      "  (0, 1082)\t1\n",
      "  (0, 3615)\t1\n",
      "  (0, 7694)\t1\n",
      "  (0, 2061)\t1\n",
      "  (0, 1765)\t1\n",
      "  (0, 4501)\t1\n",
      "  (0, 8548)\t1\n",
      "  (0, 3655)\t1\n",
      "  (0, 1767)\t1\n",
      "  (0, 4114)\t1\n",
      "  (0, 5571)\t1\n",
      "  (0, 1316)\t1\n",
      "  (0, 2338)\t1\n",
      "  (0, 5958)\t1\n",
      "  (0, 4374)\t1\n",
      "  (0, 8084)\t1\n",
      "  (0, 3571)\t1\n",
      "  (1, 5567)\t1\n",
      "  (1, 8450)\t1\n",
      "  (1, 4342)\t1\n",
      "  (1, 4537)\t1\n",
      "  (1, 5538)\t1\n",
      "  (2, 77)\t1\n",
      "  (2, 1169)\t1\n",
      "  :\t:\n",
      "  (5570, 1802)\t1\n",
      "  (5570, 3489)\t1\n",
      "  (5570, 2905)\t1\n",
      "  (5570, 7099)\t1\n",
      "  (5570, 1794)\t1\n",
      "  (5570, 8120)\t1\n",
      "  (5570, 2606)\t1\n",
      "  (5570, 5367)\t1\n",
      "  (5570, 1451)\t1\n",
      "  (5570, 7674)\t1\n",
      "  (5570, 3323)\t1\n",
      "  (5570, 7089)\t1\n",
      "  (5570, 4642)\t1\n",
      "  (5570, 1097)\t1\n",
      "  (5570, 8371)\t1\n",
      "  (5570, 4245)\t1\n",
      "  (5570, 3805)\t1\n",
      "  (5570, 7806)\t1\n",
      "  (5570, 3373)\t1\n",
      "  (5570, 4114)\t1\n",
      "  (5571, 6548)\t1\n",
      "  (5571, 7938)\t1\n",
      "  (5571, 4253)\t2\n",
      "  (5571, 5276)\t1\n",
      "  (5571, 7806)\t1\n"
     ]
    }
   ],
   "source": [
    "vectorizer = CountVectorizer(text_process).fit(messages['message'])\n",
    "bagofwordsVectorizer = vectorizer.fit_transform(messages['message'])\n",
    "print(\"(ROW, COLUMN)   (FREQUENCY OF WORD)\")\n",
    "print(bagofwordsVectorizer)"
   ]
  },
  {
   "cell_type": "code",
   "execution_count": 27,
   "metadata": {},
   "outputs": [
    {
     "name": "stdout",
     "output_type": "stream",
     "text": [
      "Count of Vocabulary words = Features\n",
      "8713\n"
     ]
    }
   ],
   "source": [
    "print(\"Count of Vocabulary words = Features\")\n",
    "print(len(vectorizer.vocabulary_))"
   ]
  },
  {
   "cell_type": "code",
   "execution_count": 28,
   "metadata": {},
   "outputs": [],
   "source": [
    "current_message=messages['message'][6]"
   ]
  },
  {
   "cell_type": "code",
   "execution_count": 29,
   "metadata": {},
   "outputs": [
    {
     "name": "stdout",
     "output_type": "stream",
     "text": [
      "Even my brother is not like to speak with me. They treat me like aids patent.\n"
     ]
    }
   ],
   "source": [
    "print(current_message)"
   ]
  },
  {
   "cell_type": "code",
   "execution_count": 30,
   "metadata": {},
   "outputs": [
    {
     "name": "stdout",
     "output_type": "stream",
     "text": [
      "(ROW, COLUMN)   (FREQUENCY OF WORD)\n",
      "  (0, 1004)\t1\n",
      "  (0, 1737)\t1\n",
      "  (0, 3012)\t1\n",
      "  (0, 4233)\t1\n",
      "  (0, 4642)\t2\n",
      "  (0, 4968)\t2\n",
      "  (0, 5254)\t1\n",
      "  (0, 5438)\t1\n",
      "  (0, 5758)\t1\n",
      "  (0, 7161)\t1\n",
      "  (0, 7702)\t1\n",
      "  (0, 7806)\t1\n",
      "  (0, 7916)\t1\n",
      "  (0, 8492)\t1\n"
     ]
    }
   ],
   "source": [
    "bagofwords_current=vectorizer.transform([current_message])\n",
    "print(\"(ROW, COLUMN)   (FREQUENCY OF WORD)\")\n",
    "print(bagofwords_current)"
   ]
  },
  {
   "cell_type": "code",
   "execution_count": 31,
   "metadata": {},
   "outputs": [
    {
     "name": "stdout",
     "output_type": "stream",
     "text": [
      "FEATURES\n",
      "(1, 8713)\n"
     ]
    }
   ],
   "source": [
    "print(\"FEATURES\")\n",
    "print(bagofwords_current.shape)"
   ]
  },
  {
   "cell_type": "code",
   "execution_count": 32,
   "metadata": {},
   "outputs": [
    {
     "name": "stdout",
     "output_type": "stream",
     "text": [
      "Any specific feature\n"
     ]
    },
    {
     "data": {
      "text/plain": [
       "u'visionsms'"
      ]
     },
     "execution_count": 32,
     "metadata": {},
     "output_type": "execute_result"
    }
   ],
   "source": [
    "print(\"Any specific feature\")\n",
    "vectorizer.get_feature_names()[8223]"
   ]
  },
  {
   "cell_type": "code",
   "execution_count": 33,
   "metadata": {},
   "outputs": [],
   "source": [
    "messages_bagofwords=vectorizer.transform(messages['message'])"
   ]
  },
  {
   "cell_type": "code",
   "execution_count": 34,
   "metadata": {},
   "outputs": [
    {
     "name": "stdout",
     "output_type": "stream",
     "text": [
      "(MESSAGES, WORDS)\n",
      "('Shape of Sparse Matrix: ', (5572, 8713))\n"
     ]
    }
   ],
   "source": [
    "print(\"(MESSAGES, WORDS)\")\n",
    "print('Shape of Sparse Matrix: ',messages_bagofwords.shape)"
   ]
  },
  {
   "cell_type": "code",
   "execution_count": 35,
   "metadata": {},
   "outputs": [
    {
     "data": {
      "text/plain": [
       "74169"
      ]
     },
     "execution_count": 35,
     "metadata": {},
     "output_type": "execute_result"
    }
   ],
   "source": [
    "#Non zero occurences\n",
    "messages_bagofwords.nnz"
   ]
  },
  {
   "cell_type": "code",
   "execution_count": 36,
   "metadata": {},
   "outputs": [],
   "source": [
    "#TF IDF\n",
    "\n",
    "from sklearn.feature_extraction.text import TfidfTransformer"
   ]
  },
  {
   "cell_type": "code",
   "execution_count": 37,
   "metadata": {},
   "outputs": [],
   "source": [
    "#Term-Frequency Inverse-document-transformer to show how a word is important to document \n",
    "tfidf_transformer=TfidfTransformer().fit(messages_bagofwords)"
   ]
  },
  {
   "cell_type": "code",
   "execution_count": 38,
   "metadata": {},
   "outputs": [],
   "source": [
    "tfidf_sample=tfidf_transformer.transform(bagofwords_current)"
   ]
  },
  {
   "cell_type": "code",
   "execution_count": 39,
   "metadata": {
    "scrolled": true
   },
   "outputs": [
    {
     "name": "stdout",
     "output_type": "stream",
     "text": [
      "(ROW, COLUMN)   (WEIGHT OF WORD(FEATURE))\n",
      "  (0, 8492)\t0.168448328700665\n",
      "  (0, 7916)\t0.3039072370980544\n",
      "  (0, 7806)\t0.09818080872247346\n",
      "  (0, 7702)\t0.21760216489302706\n",
      "  (0, 7161)\t0.2728946193421157\n",
      "  (0, 5758)\t0.3996575420294158\n",
      "  (0, 5438)\t0.16052524951106445\n",
      "  (0, 5254)\t0.14342835272663845\n",
      "  (0, 4968)\t0.27628468672347467\n",
      "  (0, 4642)\t0.37472195145479226\n",
      "  (0, 4233)\t0.13429789042949963\n",
      "  (0, 3012)\t0.24601494556750553\n",
      "  (0, 1737)\t0.2944528984899668\n",
      "  (0, 1004)\t0.3996575420294158\n"
     ]
    }
   ],
   "source": [
    "print(\"(ROW, COLUMN)   (WEIGHT OF WORD(FEATURE))\")\n",
    "print(tfidf_sample)"
   ]
  },
  {
   "cell_type": "code",
   "execution_count": 40,
   "metadata": {},
   "outputs": [
    {
     "name": "stdout",
     "output_type": "stream",
     "text": [
      "Frequency of university word in a sparse matrix\n"
     ]
    },
    {
     "data": {
      "text/plain": [
       "8.239394426449646"
      ]
     },
     "execution_count": 40,
     "metadata": {},
     "output_type": "execute_result"
    }
   ],
   "source": [
    "print(\"Frequency of university word in a sparse matrix\")\n",
    "tfidf_transformer.idf_[vectorizer.vocabulary_['university']]"
   ]
  },
  {
   "cell_type": "code",
   "execution_count": 41,
   "metadata": {},
   "outputs": [
    {
     "name": "stdout",
     "output_type": "stream",
     "text": [
      "(ROW, COLUMN)   (WEIGHT OF A FEATURE)\n",
      "  (0, 8548)\t0.22083291550052703\n",
      "  (0, 8324)\t0.18241264829651851\n",
      "  (0, 8084)\t0.23001810878216972\n",
      "  (0, 7694)\t0.1555161950550194\n",
      "  (0, 5958)\t0.25535167546045223\n",
      "  (0, 5571)\t0.15602976712614566\n",
      "  (0, 4501)\t0.27580485521143805\n",
      "  (0, 4374)\t0.32647198856800297\n",
      "  (0, 4114)\t0.1069931616636402\n",
      "  (0, 3655)\t0.18034330636364296\n",
      "  (0, 3615)\t0.15305130991688437\n",
      "  (0, 3571)\t0.14787418026870422\n",
      "  (0, 2338)\t0.25283008183768235\n",
      "  (0, 2061)\t0.27580485521143805\n",
      "  (0, 1767)\t0.27580485521143805\n",
      "  (0, 1765)\t0.3116528020516887\n",
      "  (0, 1316)\t0.24419040033995174\n",
      "  (0, 1082)\t0.32647198856800297\n",
      "  (1, 8450)\t0.43162957585464123\n",
      "  (1, 5567)\t0.5466243141314314\n",
      "  (1, 5538)\t0.2718944069420321\n",
      "  (1, 4537)\t0.4083258549263009\n",
      "  (1, 4342)\t0.5236804332035243\n",
      "  (2, 8506)\t0.1868521848510181\n",
      "  (2, 8463)\t0.1448601166108939\n",
      "  :\t:\n",
      "  (5570, 7099)\t0.20541570643501375\n",
      "  (5570, 7089)\t0.18433209615766674\n",
      "  (5570, 5367)\t0.2101107882421641\n",
      "  (5570, 4642)\t0.159545141701127\n",
      "  (5570, 4245)\t0.12207280777305733\n",
      "  (5570, 4188)\t0.2830195559272965\n",
      "  (5570, 4114)\t0.11153278693235086\n",
      "  (5570, 3805)\t0.1706162309351053\n",
      "  (5570, 3709)\t0.2426010383560268\n",
      "  (5570, 3489)\t0.2753741356210262\n",
      "  (5570, 3373)\t0.159545141701127\n",
      "  (5570, 3323)\t0.12145828902705748\n",
      "  (5570, 2905)\t0.24409532149526603\n",
      "  (5570, 2606)\t0.18433209615766674\n",
      "  (5570, 1802)\t0.2830195559272965\n",
      "  (5570, 1794)\t0.13633148775441348\n",
      "  (5570, 1561)\t0.340323906445603\n",
      "  (5570, 1451)\t0.14290139247632946\n",
      "  (5570, 1097)\t0.11224405842241922\n",
      "  (5570, 914)\t0.3248759549453855\n",
      "  (5571, 7938)\t0.4235903628972692\n",
      "  (5571, 7806)\t0.14852408386067228\n",
      "  (5571, 6548)\t0.5576716097580104\n",
      "  (5571, 5276)\t0.39090923235845254\n",
      "  (5571, 4253)\t0.5785362120911209\n"
     ]
    }
   ],
   "source": [
    "messages_tfidf=tfidf_transformer.transform(messages_bagofwords)\n",
    "print(\"(ROW, COLUMN)   (WEIGHT OF A FEATURE)\")\n",
    "print(messages_tfidf)"
   ]
  },
  {
   "cell_type": "code",
   "execution_count": 42,
   "metadata": {},
   "outputs": [],
   "source": [
    "from sklearn.naive_bayes import MultinomialNB"
   ]
  },
  {
   "cell_type": "code",
   "execution_count": 43,
   "metadata": {},
   "outputs": [],
   "source": [
    "spam_detect_model=MultinomialNB().fit(messages_tfidf,messages['label'])"
   ]
  },
  {
   "cell_type": "code",
   "execution_count": 44,
   "metadata": {},
   "outputs": [
    {
     "data": {
      "text/plain": [
       "'ham'"
      ]
     },
     "execution_count": 44,
     "metadata": {},
     "output_type": "execute_result"
    }
   ],
   "source": [
    "#To prdict the label of a message\n",
    "spam_detect_model.predict(tfidf_sample)[0]"
   ]
  },
  {
   "cell_type": "code",
   "execution_count": 45,
   "metadata": {},
   "outputs": [
    {
     "name": "stdout",
     "output_type": "stream",
     "text": [
      "['ham' 'ham' 'spam' ... 'ham' 'ham' 'ham']\n"
     ]
    }
   ],
   "source": [
    "all_pred=spam_detect_model.predict(messages_tfidf)\n",
    "print(all_pred)"
   ]
  },
  {
   "cell_type": "markdown",
   "metadata": {},
   "source": [
    "Everything above was done training data and hence we won't be able to judge the model. So let's split the data and re do it"
   ]
  },
  {
   "cell_type": "code",
   "execution_count": 47,
   "metadata": {},
   "outputs": [],
   "source": [
    "#Split the dataframe into test and train data with the ratio of 75-25\n",
    "msg_train,msg_test,label_train,label_test=train_test_split(messages['message'],messages['label'],test_size=0.25)"
   ]
  },
  {
   "cell_type": "code",
   "execution_count": 48,
   "metadata": {},
   "outputs": [],
   "source": [
    "#Instead of doing everything again, in which we have to get rid of punctuation, get rid of stop words, \n",
    "# And then do tf and idf we would use Pipelines option\n",
    "from sklearn.pipeline import Pipeline"
   ]
  },
  {
   "cell_type": "code",
   "execution_count": 49,
   "metadata": {},
   "outputs": [],
   "source": [
    "#A complete pipeline of Feature Extractor and Bionomial Naive Bayes\n",
    "pipeline=Pipeline([\n",
    "        ('bow',CountVectorizer()),\n",
    "        ('tfidf',TfidfTransformer()),\n",
    "        ('classifier',MultinomialNB())\n",
    "    ])"
   ]
  },
  {
   "cell_type": "code",
   "execution_count": 50,
   "metadata": {},
   "outputs": [
    {
     "data": {
      "text/plain": [
       "Pipeline(memory=None,\n",
       "     steps=[('bow', CountVectorizer(analyzer=u'word', binary=False, decode_error=u'strict',\n",
       "        dtype=<type 'numpy.int64'>, encoding=u'utf-8', input=u'content',\n",
       "        lowercase=True, max_df=1.0, max_features=None, min_df=1,\n",
       "        ngram_range=(1, 1), preprocessor=None, stop_words=None,\n",
       "        str...         use_idf=True)), ('classifier', MultinomialNB(alpha=1.0, class_prior=None, fit_prior=True))])"
      ]
     },
     "execution_count": 50,
     "metadata": {},
     "output_type": "execute_result"
    }
   ],
   "source": [
    "#Tarin on our train data\n",
    "pipeline.fit(msg_train,label_train)"
   ]
  },
  {
   "cell_type": "code",
   "execution_count": 51,
   "metadata": {},
   "outputs": [
    {
     "name": "stdout",
     "output_type": "stream",
     "text": [
      "['spam' 'ham' 'ham' ... 'ham' 'spam' 'ham']\n"
     ]
    }
   ],
   "source": [
    "#Test the model on test data\n",
    "test=pipeline.predict(msg_test)\n",
    "print(test)"
   ]
  },
  {
   "cell_type": "code",
   "execution_count": 56,
   "metadata": {},
   "outputs": [],
   "source": [
    "from sklearn.metrics import classification_report,confusion_matrix"
   ]
  },
  {
   "cell_type": "code",
   "execution_count": 71,
   "metadata": {},
   "outputs": [
    {
     "name": "stdout",
     "output_type": "stream",
     "text": [
      "              precision    recall  f1-score   support\n",
      "\n",
      "         ham       0.95      1.00      0.98      1195\n",
      "        spam       1.00      0.70      0.82       198\n",
      "\n",
      "   micro avg       0.96      0.96      0.96      1393\n",
      "   macro avg       0.98      0.85      0.90      1393\n",
      "weighted avg       0.96      0.96      0.95      1393\n",
      "\n"
     ]
    }
   ],
   "source": [
    "#Displays the final report and confusion matrix table to determine the performance of Classifier\n",
    "print (classification_report(label_test,test))"
   ]
  },
  {
   "cell_type": "code",
   "execution_count": 72,
   "metadata": {},
   "outputs": [
    {
     "name": "stdout",
     "output_type": "stream",
     "text": [
      "('TRUE NEAGTIVE', 1195)\n",
      "('FALSE NEAGTIVE', 60)\n",
      "('TRUE POSITIVE', 138)\n",
      "('FALSE POSITIVE', 0)\n"
     ]
    }
   ],
   "source": [
    "CF = confusion_matrix(label_test,test)\n",
    "trueNegative = CF[0][0]\n",
    "print(\"TRUE NEAGTIVE\",trueNegative)\n",
    "falseNegative = CF[1][0]\n",
    "print(\"FALSE NEAGTIVE\",falseNegative)\n",
    "truePositive = CF[1][1]\n",
    "print(\"TRUE POSITIVE\",truePositive)\n",
    "falsePositive = CF[0][1]\n",
    "print(\"FALSE POSITIVE\",falsePositive)"
   ]
  }
 ],
 "metadata": {
  "anaconda-cloud": {},
  "kernelspec": {
   "display_name": "Python 2",
   "language": "python",
   "name": "python2"
  },
  "language_info": {
   "codemirror_mode": {
    "name": "ipython",
    "version": 2
   },
   "file_extension": ".py",
   "mimetype": "text/x-python",
   "name": "python",
   "nbconvert_exporter": "python",
   "pygments_lexer": "ipython2",
   "version": "2.7.15"
  }
 },
 "nbformat": 4,
 "nbformat_minor": 1
}
